{
 "cells": [
  {
   "cell_type": "code",
   "execution_count": 3,
   "id": "2e133874",
   "metadata": {},
   "outputs": [
    {
     "name": "stdout",
     "output_type": "stream",
     "text": [
      "Jawan Pakistan\n",
      "Data Science Course\n",
      "Assignment #1\n",
      "Name: Abdul Ghani\n",
      "Surname: Marri Baloch\n"
     ]
    }
   ],
   "source": [
    "print (\"Jawan Pakistan\\nData Science Course\\nAssignment #1\\nName: Abdul Ghani\\nSurname: Marri Baloch\");"
   ]
  },
  {
   "cell_type": "code",
   "execution_count": 4,
   "id": "2aeb9aa9",
   "metadata": {},
   "outputs": [
    {
     "name": "stdout",
     "output_type": "stream",
     "text": [
      "Twinkle, twinkle, little star,\n",
      "     How i wonder what you are|\n",
      "        Up above the world so high,\n",
      "       Like a diamond in the sky.\n",
      "Twinkle, twinkle, little star,\n",
      "     How i wonder what you are\n"
     ]
    }
   ],
   "source": [
    "print(\"Twinkle, twinkle, little star,\\n     How i wonder what you are|\\n        Up above the world so high,\\n       Like a diamond in the sky.\\nTwinkle, twinkle, little star,\\n     How i wonder what you are\");\n"
   ]
  },
  {
   "cell_type": "code",
   "execution_count": 5,
   "id": "1fdc2fe2",
   "metadata": {},
   "outputs": [
    {
     "name": "stdout",
     "output_type": "stream",
     "text": [
      "Python Version\n",
      "3.8.8 (default, Apr 13 2021, 15:08:03) [MSC v.1916 64 bit (AMD64)]\n",
      "Version info.\n",
      "sys.version_info(major=3, minor=8, micro=8, releaselevel='final', serial=0)\n"
     ]
    }
   ],
   "source": [
    "import sys\n",
    "print (\"Python Version\")\n",
    "print (sys.version)\n",
    "print (\"Version info.\")\n",
    "print (sys.version_info)"
   ]
  },
  {
   "cell_type": "code",
   "execution_count": 6,
   "id": "a9c86cd6",
   "metadata": {},
   "outputs": [
    {
     "data": {
      "text/plain": [
       "1640956433.2607665"
      ]
     },
     "execution_count": 6,
     "metadata": {},
     "output_type": "execute_result"
    }
   ],
   "source": [
    "import time\n",
    "time.time()"
   ]
  },
  {
   "cell_type": "code",
   "execution_count": 7,
   "id": "b096029d",
   "metadata": {},
   "outputs": [
    {
     "data": {
      "text/plain": [
       "'Fri Dec 31 18:13:53 2021'"
      ]
     },
     "execution_count": 7,
     "metadata": {},
     "output_type": "execute_result"
    }
   ],
   "source": [
    "time.ctime(1640956433.2607665)"
   ]
  },
  {
   "cell_type": "code",
   "execution_count": 8,
   "id": "e9be726d",
   "metadata": {},
   "outputs": [
    {
     "name": "stdout",
     "output_type": "stream",
     "text": [
      "Enter The Radius Of Circle 4\n",
      "Area of circle is 50.24\n"
     ]
    }
   ],
   "source": [
    "r=int (input(\"Enter The Radius Of Circle \"));\n",
    "a=3.14*r**2\n",
    "print (\"Area of circle is\",a);"
   ]
  },
  {
   "cell_type": "code",
   "execution_count": 9,
   "id": "b8dabedf",
   "metadata": {},
   "outputs": [
    {
     "name": "stdout",
     "output_type": "stream",
     "text": [
      "First Name: Abdul\n",
      "Last Name: Ghani\n"
     ]
    }
   ],
   "source": [
    "input(\"First Name: \");\n",
    "input(\"Last Name: \");"
   ]
  },
  {
   "cell_type": "code",
   "execution_count": 11,
   "id": "45d8d0bb",
   "metadata": {},
   "outputs": [
    {
     "name": "stdout",
     "output_type": "stream",
     "text": [
      "Enter The Value : 11\n",
      "Enter The Value : 11\n",
      "11 + 11 = 22\n"
     ]
    }
   ],
   "source": [
    "num1= int (input(\"Enter The Value : \"));\n",
    "num2= int (input(\"Enter The Value : \"));\n",
    "total = num1+num2\n",
    "print (num1,\"+\",num2,\"=\",total)"
   ]
  },
  {
   "cell_type": "code",
   "execution_count": null,
   "id": "4ecfc2db",
   "metadata": {},
   "outputs": [],
   "source": []
  }
 ],
 "metadata": {
  "kernelspec": {
   "display_name": "Python 3",
   "language": "python",
   "name": "python3"
  },
  "language_info": {
   "codemirror_mode": {
    "name": "ipython",
    "version": 3
   },
   "file_extension": ".py",
   "mimetype": "text/x-python",
   "name": "python",
   "nbconvert_exporter": "python",
   "pygments_lexer": "ipython3",
   "version": "3.8.8"
  }
 },
 "nbformat": 4,
 "nbformat_minor": 5
}
